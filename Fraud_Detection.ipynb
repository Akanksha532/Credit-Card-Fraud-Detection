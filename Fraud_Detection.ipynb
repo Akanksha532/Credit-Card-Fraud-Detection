{
 "cells": [
  {
   "cell_type": "markdown",
   "id": "5c5aec76",
   "metadata": {},
   "source": [
    "## Data Dictionary"
   ]
  },
  {
   "cell_type": "markdown",
   "id": "68dbc8a0",
   "metadata": {},
   "source": [
    "* step - maps a unit of time in the real world. In this case 1 step is 1 hour of time. Total steps 744 (30 days simulation).\n",
    "\n",
    "* type - CASH-IN, CASH-OUT, DEBIT, PAYMENT and TRANSFER.\n",
    "\n",
    "* amount - amount of the transaction in local currency.\n",
    "\n",
    "* nameOrig - customer who started the transaction\n",
    "\n",
    "* oldbalanceOrg - initial balance before the transaction\n",
    "\n",
    "* newbalanceOrig - new balance after the transaction\n",
    "\n",
    "* nameDest - customer who is the recipient of the transaction\n",
    "\n",
    "* oldbalanceDest - initial balance recipient before the transaction. Note that there is not information for customers that start with M (Merchants).\n",
    "\n",
    "* newbalanceDest - new balance recipient after the transaction. Note that there is not information for customers that start with M (Merchants).\n",
    "\n",
    "* isFraud - This is the transactions made by the fraudulent agents inside the simulation. In this specific dataset the fraudulent behavior of the agents aims to profit by taking control or customers accounts and try to empty the funds by transferring to another account and then cashing out of the system.\n",
    "\n",
    "* isFlaggedFraud - The business model aims to control massive transfers from one account to another and flags illegal attempts. An illegal attempt in this dataset is an attempt to transfer more than 200.000 in a single transaction."
   ]
  },
  {
   "cell_type": "code",
   "execution_count": 28,
   "id": "5a34fe0c",
   "metadata": {},
   "outputs": [],
   "source": [
    "#Importing libraries\n",
    "import pandas as pd\n",
    "import numpy as np\n",
    "from sklearn.model_selection import train_test_split\n",
    "from sklearn.metrics import classification_report,roc_auc_score,confusion_matrix\n",
    "from sklearn.ensemble import RandomForestClassifier\n",
    "from xgboost import XGBClassifier\n",
    "from sklearn.metrics import roc_curve, auc\n",
    "import matplotlib.pyplot as plt\n",
    "\n"
   ]
  },
  {
   "cell_type": "markdown",
   "id": "fc87f2ba",
   "metadata": {},
   "source": [
    "### Loading and Understanding dataset"
   ]
  },
  {
   "cell_type": "code",
   "execution_count": 29,
   "id": "3d7a993e",
   "metadata": {
    "scrolled": true
   },
   "outputs": [
    {
     "data": {
      "text/html": [
       "<div>\n",
       "<style scoped>\n",
       "    .dataframe tbody tr th:only-of-type {\n",
       "        vertical-align: middle;\n",
       "    }\n",
       "\n",
       "    .dataframe tbody tr th {\n",
       "        vertical-align: top;\n",
       "    }\n",
       "\n",
       "    .dataframe thead th {\n",
       "        text-align: right;\n",
       "    }\n",
       "</style>\n",
       "<table border=\"1\" class=\"dataframe\">\n",
       "  <thead>\n",
       "    <tr style=\"text-align: right;\">\n",
       "      <th></th>\n",
       "      <th>step</th>\n",
       "      <th>type</th>\n",
       "      <th>amount</th>\n",
       "      <th>nameOrig</th>\n",
       "      <th>oldbalanceOrg</th>\n",
       "      <th>newbalanceOrig</th>\n",
       "      <th>nameDest</th>\n",
       "      <th>oldbalanceDest</th>\n",
       "      <th>newbalanceDest</th>\n",
       "      <th>isFraud</th>\n",
       "      <th>isFlaggedFraud</th>\n",
       "    </tr>\n",
       "  </thead>\n",
       "  <tbody>\n",
       "    <tr>\n",
       "      <th>0</th>\n",
       "      <td>1</td>\n",
       "      <td>PAYMENT</td>\n",
       "      <td>9839.64</td>\n",
       "      <td>C1231006815</td>\n",
       "      <td>170136.0</td>\n",
       "      <td>160296.36</td>\n",
       "      <td>M1979787155</td>\n",
       "      <td>0.0</td>\n",
       "      <td>0.0</td>\n",
       "      <td>0</td>\n",
       "      <td>0</td>\n",
       "    </tr>\n",
       "    <tr>\n",
       "      <th>1</th>\n",
       "      <td>1</td>\n",
       "      <td>PAYMENT</td>\n",
       "      <td>1864.28</td>\n",
       "      <td>C1666544295</td>\n",
       "      <td>21249.0</td>\n",
       "      <td>19384.72</td>\n",
       "      <td>M2044282225</td>\n",
       "      <td>0.0</td>\n",
       "      <td>0.0</td>\n",
       "      <td>0</td>\n",
       "      <td>0</td>\n",
       "    </tr>\n",
       "    <tr>\n",
       "      <th>2</th>\n",
       "      <td>1</td>\n",
       "      <td>TRANSFER</td>\n",
       "      <td>181.00</td>\n",
       "      <td>C1305486145</td>\n",
       "      <td>181.0</td>\n",
       "      <td>0.00</td>\n",
       "      <td>C553264065</td>\n",
       "      <td>0.0</td>\n",
       "      <td>0.0</td>\n",
       "      <td>1</td>\n",
       "      <td>0</td>\n",
       "    </tr>\n",
       "    <tr>\n",
       "      <th>3</th>\n",
       "      <td>1</td>\n",
       "      <td>CASH_OUT</td>\n",
       "      <td>181.00</td>\n",
       "      <td>C840083671</td>\n",
       "      <td>181.0</td>\n",
       "      <td>0.00</td>\n",
       "      <td>C38997010</td>\n",
       "      <td>21182.0</td>\n",
       "      <td>0.0</td>\n",
       "      <td>1</td>\n",
       "      <td>0</td>\n",
       "    </tr>\n",
       "    <tr>\n",
       "      <th>4</th>\n",
       "      <td>1</td>\n",
       "      <td>PAYMENT</td>\n",
       "      <td>11668.14</td>\n",
       "      <td>C2048537720</td>\n",
       "      <td>41554.0</td>\n",
       "      <td>29885.86</td>\n",
       "      <td>M1230701703</td>\n",
       "      <td>0.0</td>\n",
       "      <td>0.0</td>\n",
       "      <td>0</td>\n",
       "      <td>0</td>\n",
       "    </tr>\n",
       "  </tbody>\n",
       "</table>\n",
       "</div>"
      ],
      "text/plain": [
       "   step      type    amount     nameOrig  oldbalanceOrg  newbalanceOrig  \\\n",
       "0     1   PAYMENT   9839.64  C1231006815       170136.0       160296.36   \n",
       "1     1   PAYMENT   1864.28  C1666544295        21249.0        19384.72   \n",
       "2     1  TRANSFER    181.00  C1305486145          181.0            0.00   \n",
       "3     1  CASH_OUT    181.00   C840083671          181.0            0.00   \n",
       "4     1   PAYMENT  11668.14  C2048537720        41554.0        29885.86   \n",
       "\n",
       "      nameDest  oldbalanceDest  newbalanceDest  isFraud  isFlaggedFraud  \n",
       "0  M1979787155             0.0             0.0        0               0  \n",
       "1  M2044282225             0.0             0.0        0               0  \n",
       "2   C553264065             0.0             0.0        1               0  \n",
       "3    C38997010         21182.0             0.0        1               0  \n",
       "4  M1230701703             0.0             0.0        0               0  "
      ]
     },
     "execution_count": 29,
     "metadata": {},
     "output_type": "execute_result"
    }
   ],
   "source": [
    "# loading data\n",
    "df=pd.read_csv('Fraud.csv')\n",
    "df.head()"
   ]
  },
  {
   "cell_type": "code",
   "execution_count": 30,
   "id": "3fabe824",
   "metadata": {},
   "outputs": [
    {
     "name": "stdout",
     "output_type": "stream",
     "text": [
      "<class 'pandas.core.frame.DataFrame'>\n",
      "RangeIndex: 6362620 entries, 0 to 6362619\n",
      "Data columns (total 11 columns):\n",
      " #   Column          Dtype  \n",
      "---  ------          -----  \n",
      " 0   step            int64  \n",
      " 1   type            object \n",
      " 2   amount          float64\n",
      " 3   nameOrig        object \n",
      " 4   oldbalanceOrg   float64\n",
      " 5   newbalanceOrig  float64\n",
      " 6   nameDest        object \n",
      " 7   oldbalanceDest  float64\n",
      " 8   newbalanceDest  float64\n",
      " 9   isFraud         int64  \n",
      " 10  isFlaggedFraud  int64  \n",
      "dtypes: float64(5), int64(3), object(3)\n",
      "memory usage: 534.0+ MB\n"
     ]
    }
   ],
   "source": [
    "#Data informaation\n",
    "df.info()"
   ]
  },
  {
   "cell_type": "code",
   "execution_count": 31,
   "id": "fb32c006",
   "metadata": {},
   "outputs": [
    {
     "data": {
      "text/html": [
       "<div>\n",
       "<style scoped>\n",
       "    .dataframe tbody tr th:only-of-type {\n",
       "        vertical-align: middle;\n",
       "    }\n",
       "\n",
       "    .dataframe tbody tr th {\n",
       "        vertical-align: top;\n",
       "    }\n",
       "\n",
       "    .dataframe thead th {\n",
       "        text-align: right;\n",
       "    }\n",
       "</style>\n",
       "<table border=\"1\" class=\"dataframe\">\n",
       "  <thead>\n",
       "    <tr style=\"text-align: right;\">\n",
       "      <th></th>\n",
       "      <th>step</th>\n",
       "      <th>amount</th>\n",
       "      <th>oldbalanceOrg</th>\n",
       "      <th>newbalanceOrig</th>\n",
       "      <th>oldbalanceDest</th>\n",
       "      <th>newbalanceDest</th>\n",
       "      <th>isFraud</th>\n",
       "      <th>isFlaggedFraud</th>\n",
       "    </tr>\n",
       "  </thead>\n",
       "  <tbody>\n",
       "    <tr>\n",
       "      <th>count</th>\n",
       "      <td>6.362620e+06</td>\n",
       "      <td>6.362620e+06</td>\n",
       "      <td>6.362620e+06</td>\n",
       "      <td>6.362620e+06</td>\n",
       "      <td>6.362620e+06</td>\n",
       "      <td>6.362620e+06</td>\n",
       "      <td>6.362620e+06</td>\n",
       "      <td>6.362620e+06</td>\n",
       "    </tr>\n",
       "    <tr>\n",
       "      <th>mean</th>\n",
       "      <td>2.433972e+02</td>\n",
       "      <td>1.798619e+05</td>\n",
       "      <td>8.338831e+05</td>\n",
       "      <td>8.551137e+05</td>\n",
       "      <td>1.100702e+06</td>\n",
       "      <td>1.224996e+06</td>\n",
       "      <td>1.290820e-03</td>\n",
       "      <td>2.514687e-06</td>\n",
       "    </tr>\n",
       "    <tr>\n",
       "      <th>std</th>\n",
       "      <td>1.423320e+02</td>\n",
       "      <td>6.038582e+05</td>\n",
       "      <td>2.888243e+06</td>\n",
       "      <td>2.924049e+06</td>\n",
       "      <td>3.399180e+06</td>\n",
       "      <td>3.674129e+06</td>\n",
       "      <td>3.590480e-02</td>\n",
       "      <td>1.585775e-03</td>\n",
       "    </tr>\n",
       "    <tr>\n",
       "      <th>min</th>\n",
       "      <td>1.000000e+00</td>\n",
       "      <td>0.000000e+00</td>\n",
       "      <td>0.000000e+00</td>\n",
       "      <td>0.000000e+00</td>\n",
       "      <td>0.000000e+00</td>\n",
       "      <td>0.000000e+00</td>\n",
       "      <td>0.000000e+00</td>\n",
       "      <td>0.000000e+00</td>\n",
       "    </tr>\n",
       "    <tr>\n",
       "      <th>25%</th>\n",
       "      <td>1.560000e+02</td>\n",
       "      <td>1.338957e+04</td>\n",
       "      <td>0.000000e+00</td>\n",
       "      <td>0.000000e+00</td>\n",
       "      <td>0.000000e+00</td>\n",
       "      <td>0.000000e+00</td>\n",
       "      <td>0.000000e+00</td>\n",
       "      <td>0.000000e+00</td>\n",
       "    </tr>\n",
       "    <tr>\n",
       "      <th>50%</th>\n",
       "      <td>2.390000e+02</td>\n",
       "      <td>7.487194e+04</td>\n",
       "      <td>1.420800e+04</td>\n",
       "      <td>0.000000e+00</td>\n",
       "      <td>1.327057e+05</td>\n",
       "      <td>2.146614e+05</td>\n",
       "      <td>0.000000e+00</td>\n",
       "      <td>0.000000e+00</td>\n",
       "    </tr>\n",
       "    <tr>\n",
       "      <th>75%</th>\n",
       "      <td>3.350000e+02</td>\n",
       "      <td>2.087215e+05</td>\n",
       "      <td>1.073152e+05</td>\n",
       "      <td>1.442584e+05</td>\n",
       "      <td>9.430367e+05</td>\n",
       "      <td>1.111909e+06</td>\n",
       "      <td>0.000000e+00</td>\n",
       "      <td>0.000000e+00</td>\n",
       "    </tr>\n",
       "    <tr>\n",
       "      <th>max</th>\n",
       "      <td>7.430000e+02</td>\n",
       "      <td>9.244552e+07</td>\n",
       "      <td>5.958504e+07</td>\n",
       "      <td>4.958504e+07</td>\n",
       "      <td>3.560159e+08</td>\n",
       "      <td>3.561793e+08</td>\n",
       "      <td>1.000000e+00</td>\n",
       "      <td>1.000000e+00</td>\n",
       "    </tr>\n",
       "  </tbody>\n",
       "</table>\n",
       "</div>"
      ],
      "text/plain": [
       "               step        amount  oldbalanceOrg  newbalanceOrig  \\\n",
       "count  6.362620e+06  6.362620e+06   6.362620e+06    6.362620e+06   \n",
       "mean   2.433972e+02  1.798619e+05   8.338831e+05    8.551137e+05   \n",
       "std    1.423320e+02  6.038582e+05   2.888243e+06    2.924049e+06   \n",
       "min    1.000000e+00  0.000000e+00   0.000000e+00    0.000000e+00   \n",
       "25%    1.560000e+02  1.338957e+04   0.000000e+00    0.000000e+00   \n",
       "50%    2.390000e+02  7.487194e+04   1.420800e+04    0.000000e+00   \n",
       "75%    3.350000e+02  2.087215e+05   1.073152e+05    1.442584e+05   \n",
       "max    7.430000e+02  9.244552e+07   5.958504e+07    4.958504e+07   \n",
       "\n",
       "       oldbalanceDest  newbalanceDest       isFraud  isFlaggedFraud  \n",
       "count    6.362620e+06    6.362620e+06  6.362620e+06    6.362620e+06  \n",
       "mean     1.100702e+06    1.224996e+06  1.290820e-03    2.514687e-06  \n",
       "std      3.399180e+06    3.674129e+06  3.590480e-02    1.585775e-03  \n",
       "min      0.000000e+00    0.000000e+00  0.000000e+00    0.000000e+00  \n",
       "25%      0.000000e+00    0.000000e+00  0.000000e+00    0.000000e+00  \n",
       "50%      1.327057e+05    2.146614e+05  0.000000e+00    0.000000e+00  \n",
       "75%      9.430367e+05    1.111909e+06  0.000000e+00    0.000000e+00  \n",
       "max      3.560159e+08    3.561793e+08  1.000000e+00    1.000000e+00  "
      ]
     },
     "execution_count": 31,
     "metadata": {},
     "output_type": "execute_result"
    }
   ],
   "source": [
    "#Data Description\n",
    "df.describe()"
   ]
  },
  {
   "cell_type": "code",
   "execution_count": 32,
   "id": "793f79d3",
   "metadata": {},
   "outputs": [
    {
     "data": {
      "text/plain": [
       "type\n",
       "CASH_OUT    2237500\n",
       "PAYMENT     2151495\n",
       "CASH_IN     1399284\n",
       "TRANSFER     532909\n",
       "DEBIT         41432\n",
       "Name: count, dtype: int64"
      ]
     },
     "execution_count": 32,
     "metadata": {},
     "output_type": "execute_result"
    }
   ],
   "source": [
    "#different type value counts\n",
    "df['type'].value_counts()"
   ]
  },
  {
   "cell_type": "code",
   "execution_count": 33,
   "id": "9b929224",
   "metadata": {},
   "outputs": [
    {
     "data": {
      "text/plain": [
       "isFraud\n",
       "0    6354407\n",
       "1       8213\n",
       "Name: count, dtype: int64"
      ]
     },
     "execution_count": 33,
     "metadata": {},
     "output_type": "execute_result"
    }
   ],
   "source": [
    "#fraud and non fraud value counts\n",
    "df['isFraud'].value_counts()"
   ]
  },
  {
   "cell_type": "code",
   "execution_count": 34,
   "id": "e7c5866e",
   "metadata": {},
   "outputs": [
    {
     "data": {
      "text/plain": [
       "step              0\n",
       "type              0\n",
       "amount            0\n",
       "nameOrig          0\n",
       "oldbalanceOrg     0\n",
       "newbalanceOrig    0\n",
       "nameDest          0\n",
       "oldbalanceDest    0\n",
       "newbalanceDest    0\n",
       "isFraud           0\n",
       "isFlaggedFraud    0\n",
       "dtype: int64"
      ]
     },
     "execution_count": 34,
     "metadata": {},
     "output_type": "execute_result"
    }
   ],
   "source": [
    "#checking for null values\n",
    "df.isna().sum()"
   ]
  },
  {
   "cell_type": "markdown",
   "id": "072c4db8",
   "metadata": {},
   "source": [
    "### Data cleaning and preprocessing"
   ]
  },
  {
   "cell_type": "markdown",
   "id": "8bfe7c89",
   "metadata": {},
   "source": [
    "### Steps taken in data cleaning and preprocessing \n",
    "* Instead of using type (cash-in,cash-out,transfer, payment,debt) as one entity, divided the type into its sub category.\n",
    "* Marked merchant payments based on the reciever's end.\n",
    "* Introduced engineered features like errorBalanceOrig and errorBalancedDest\n",
    "* Found daily and hourly trends\n",
    "* Dropped irrelavant features"
   ]
  },
  {
   "cell_type": "code",
   "execution_count": 35,
   "id": "895aa113",
   "metadata": {},
   "outputs": [],
   "source": [
    "#one-hot encoded variables\n",
    "df=pd.get_dummies(df,columns=['type'],drop_first=True)"
   ]
  },
  {
   "cell_type": "code",
   "execution_count": 36,
   "id": "e3df974d",
   "metadata": {},
   "outputs": [],
   "source": [
    "# information regarding merchants\n",
    "df['Merchant']=df['nameDest'].str.startswith(\"M\").astype(int)"
   ]
  },
  {
   "cell_type": "code",
   "execution_count": 37,
   "id": "0b7e6138",
   "metadata": {},
   "outputs": [],
   "source": [
    "#finding error at sender's and reciever's end\n",
    "df['errorOrg']=df['oldbalanceOrg']-df['amount']-df['newbalanceOrig']\n",
    "df['errorDest']=df['oldbalanceDest']+df['amount']-df['newbalanceDest']"
   ]
  },
  {
   "cell_type": "code",
   "execution_count": 38,
   "id": "372f341d",
   "metadata": {},
   "outputs": [],
   "source": [
    "# analyzing hourly and daily trends\n",
    "df['hour']=df['step']%24\n",
    "df['day']=df['step']//24"
   ]
  },
  {
   "cell_type": "code",
   "execution_count": 39,
   "id": "0e5c157b",
   "metadata": {},
   "outputs": [],
   "source": [
    "# removing irrelavant features and data leaking features\n",
    "x=df.drop(['isFraud','isFlaggedFraud','nameOrig','nameDest'],axis=1)\n",
    "y=df['isFraud']"
   ]
  },
  {
   "cell_type": "markdown",
   "id": "600e6d78",
   "metadata": {},
   "source": [
    "### Data splitting and model fitting\n",
    "* Splitted data into train test data\n",
    "* Used Randomforest classifier and XGBoost model\n",
    "* Defined model evaluation function for model evaluation"
   ]
  },
  {
   "cell_type": "code",
   "execution_count": 40,
   "id": "760a88f7",
   "metadata": {},
   "outputs": [],
   "source": [
    "#train and test split data\n",
    "x_train,x_test,y_train,y_test=train_test_split(x,y,test_size=0.2,stratify=y,random_state=3)"
   ]
  },
  {
   "cell_type": "code",
   "execution_count": 41,
   "id": "2038034a",
   "metadata": {},
   "outputs": [],
   "source": [
    "Rndforest=RandomForestClassifier(n_estimators=100, class_weight='balanced',random_state=3)\n",
    "Rndforest.fit(x_train,y_train)\n",
    "yPred=Rndforest.predict(x_test)"
   ]
  },
  {
   "cell_type": "code",
   "execution_count": 42,
   "id": "25afc387",
   "metadata": {},
   "outputs": [],
   "source": [
    "xgb=XGBClassifier(objective='binary:logistic', eval_metric='auc',scale_pos_weight=10,random_state=3)\n",
    "xgb.fit(x_train,y_train)\n",
    "yPred_xgb=xgb.predict(x_test)"
   ]
  },
  {
   "cell_type": "code",
   "execution_count": 43,
   "id": "26a6ab25",
   "metadata": {},
   "outputs": [
    {
     "name": "stdout",
     "output_type": "stream",
     "text": [
      "\n",
      " RandomForest Evaluation:\n",
      "Classifciation Report:\n",
      "               precision    recall  f1-score   support\n",
      "\n",
      "           0       1.00      1.00      1.00   1270881\n",
      "           1       1.00      1.00      1.00      1643\n",
      "\n",
      "    accuracy                           1.00   1272524\n",
      "   macro avg       1.00      1.00      1.00   1272524\n",
      "weighted avg       1.00      1.00      1.00   1272524\n",
      "\n",
      "Confusion Matrix:\n",
      " [[1270881       0]\n",
      " [      6    1637]]\n",
      "\n",
      "ROC-AUC Score: 0.9981740718198417\n",
      "\n",
      " XGBoost Evaluation:\n",
      "Classifciation Report:\n",
      "               precision    recall  f1-score   support\n",
      "\n",
      "           0       1.00      1.00      1.00   1270881\n",
      "           1       0.98      0.99      0.99      1643\n",
      "\n",
      "    accuracy                           1.00   1272524\n",
      "   macro avg       0.99      1.00      0.99   1272524\n",
      "weighted avg       1.00      1.00      1.00   1272524\n",
      "\n",
      "Confusion Matrix:\n",
      " [[1270852      29]\n",
      " [     11    1632]]\n",
      "\n",
      "ROC-AUC Score: 0.996641055594924\n"
     ]
    }
   ],
   "source": [
    "# define function to evalute metrics\n",
    "def evaluate_model(y_true,y_pred,name):\n",
    "    print(f\"\\n {name} Evaluation:\")\n",
    "    print(\"Classifciation Report:\\n\",classification_report(y_true,y_pred))\n",
    "    print(\"Confusion Matrix:\\n\",confusion_matrix(y_true,y_pred))\n",
    "\n",
    "    print('\\nROC-AUC Score:',roc_auc_score(y_true,y_pred))\n",
    "evaluate_model(y_test,yPred,\"RandomForest\")\n",
    "evaluate_model(y_test,yPred_xgb,\"XGBoost\")\n"
   ]
  },
  {
   "cell_type": "markdown",
   "id": "f645d32a",
   "metadata": {},
   "source": [
    "## Why Random Forest Classifier was choosen?\n",
    "* Random Forest can handle both numbers and categories easily.\n",
    "* Random Forest has class_weight (class_weight='balanced') that automatically adjusts for imbalanced fraud cases.\n",
    "* It prevents overfitting as it builds many decision trees and combines them.\n",
    "* Gives feature importance"
   ]
  },
  {
   "cell_type": "markdown",
   "id": "3b64a197",
   "metadata": {},
   "source": [
    "## Why XGBoost was Choosen?\n",
    "* XGBoost can understand complicated relationships in the data\n",
    "* XGBoost can focus more on the rare fraud cases by adjusting its settings.\n",
    "* XGBoost is known for being very fast even on huge datasets\n",
    "* XGBoost can identify whichare most important features for detecting fraud.\n",
    "\n",
    "*Selected variables by dropping IDs, creating balance and time features, encoding transaction types, and keeping only the features that logically and practically help detect fraud.*"
   ]
  },
  {
   "cell_type": "markdown",
   "id": "701e142e",
   "metadata": {},
   "source": [
    "### Model Fine Tuning \n",
    "\n",
    "Used different hyperparameters for the model\n",
    "and found the best one\n",
    "\n",
    "* Random Forest Fine-Tuning\n",
    "\n",
    "        rf = RandomForestClassifier(class_weight='balanced', random_state=42)\n",
    "        rf_params = {\n",
    "            'n_estimators': [100, 200],\n",
    "            'max_depth': [10, 20, None],\n",
    "            'min_samples_split': [2, 5],\n",
    "            'min_samples_leaf': [1, 2],\n",
    "        }\n",
    "\n",
    "        rf_grid = GridSearchCV(rf, rf_params, scoring='roc_auc', cv=3, n_jobs=-1, verbose=1)\n",
    "        rf_grid.fit(x_train, y_train)\n",
    "\n",
    "\n",
    "        print(\"Random Forest Best Parameters:\", rf_grid.best_params_)\n",
    "\n",
    "\n",
    "        y_pred_rf = rf_grid.predict(x_test)\n",
    "        print(\"Random Forest Classification Report:\\n\", classification_report(y_test, y_pred_rf))\n",
    "        print(\"ROC-AUC:\", roc_auc_score(y_test, rf_grid.predict_proba(x_test)[:,1]))\n",
    "\n",
    "-----------------------------------------------------\n",
    "\n",
    "\n",
    "* XGBoost Fine-Tuning\n",
    "        \n",
    "        xgb = XGBClassifier(objective='binary:logistic', eval_metric='auc', scale_pos_weight=10, random_state=42)\n",
    "        xgb_params = {\n",
    "            'n_estimators': [100, 200],\n",
    "            'max_depth': [4, 6, 8],\n",
    "            'learning_rate': [0.01, 0.1],\n",
    "            'subsample': [0.8, 1],\n",
    "            'colsample_bytree': [0.8, 1],\n",
    "        }\n",
    "\n",
    "        xgb_grid = GridSearchCV(xgb, xgb_params, scoring='roc_auc', cv=3, n_jobs=-1, verbose=1)\n",
    "        xgb_grid.fit(x_train, y_train)\n",
    "\n",
    "        print(\"XGBoost Best Parameters:\", xgb_grid.best_params_)\n",
    "\n",
    "        y_pred_xgb = xgb_grid.predict(x_test)\n",
    "        print(\"XGBoost Classification Report:\\n\", classification_report(y_test, y_pred_xgb))\n",
    "        print(\"ROC-AUC:\", roc_auc_score(y_test, xgb_grid.predict_proba(x_test)[:,1]))\n",
    "        \n",
    "        \n",
    "*Model fine-tuning could further enhance performance; however, due to limited processing capacity and time constraints on my laptop, it could not be completed.*\n"
   ]
  },
  {
   "cell_type": "markdown",
   "id": "3b828e9d",
   "metadata": {},
   "source": [
    "Metrics used\n",
    "\n",
    "Confusion Matrix: shows how many frauds and non-frauds were correctly or incorrectly classified.\n",
    "\n",
    "Classification Report : gives detailed metrics like precision, recall, and F1-score.\n",
    "\n",
    "ROC-AUC Score : measures the model’s overall ability to separate fraud and non-fraud cases,"
   ]
  },
  {
   "cell_type": "markdown",
   "id": "48c45718",
   "metadata": {},
   "source": [
    "### Feature engineering\n",
    "* Found the most important features that contributes towards the model output.\n"
   ]
  },
  {
   "cell_type": "code",
   "execution_count": 44,
   "id": "5731845c",
   "metadata": {},
   "outputs": [
    {
     "data": {
      "image/png": "[encoded data removed]",
      "text/plain": [
       "<Figure size 640x480 with 1 Axes>"
      ]
     },
     "metadata": {},
     "output_type": "display_data"
    },
    {
     "data": {
      "image/png": "[encoded data removed]",
      "text/plain": [
       "<Figure size 640x480 with 1 Axes>"
      ]
     },
     "metadata": {},
     "output_type": "display_data"
    }
   ],
   "source": [
    "#feature engineering\n",
    "imp_rndf=pd.Series(Rndforest.feature_importances_,index=x.columns).sort_values(ascending=True)\n",
    "imp_rndf[:10].plot(kind='barh')\n",
    "plt.title(\"Top 10 Random Forest Feature Importances\")\n",
    "plt.show()\n",
    "\n",
    "imp_xgb=pd.Series(xgb.feature_importances_,index=x.columns).sort_values(ascending=True)\n",
    "imp_xgb[:10].plot(kind='barh')\n",
    "plt.title(\"Top 10 XGBoost Feature Importances\")\n",
    "plt.show()"
   ]
  },
  {
   "cell_type": "markdown",
   "id": "9ebb7d2f",
   "metadata": {},
   "source": [
    "## Key factors \n",
    "* `errorBalanceDest`,\n",
    "* `Transaction Type (TRANSFER, CASH_OUT)`,\n",
    "* `Transaction Amount`,\n",
    "* `Transaction Time (Hour of the Day)`,\n",
    "* `Sender and Receiver Balance Behavior`\n",
    "\n",
    "*Frauders change account balances, perform large movements quickly, and use irregular working times when corporate control is inactive.\n",
    "These are consistent patterns of known financial fraud behavior, and the main predictors of the model make sense and are consistent with businesses.*"
   ]
  },
  {
   "cell_type": "code",
   "execution_count": 45,
   "id": "6c6d2706",
   "metadata": {},
   "outputs": [
    {
     "data": {
      "image/png": "[encoded data removed]",
      "text/plain": [
       "<Figure size 800x600 with 1 Axes>"
      ]
     },
     "metadata": {},
     "output_type": "display_data"
    }
   ],
   "source": [
    "from sklearn.metrics import roc_curve, auc\n",
    "import matplotlib.pyplot as plt\n",
    "\n",
    "# Predict probabilities for RandomForest\n",
    "y_proba = Rndforest.predict_proba(x_test)[:,1] \n",
    "fpr, tpr, _ = roc_curve(y_test, y_proba)\n",
    "roc_auc = auc(fpr, tpr)\n",
    "  \n",
    "#XGBoost \n",
    "y_proba_xgb = xgb.predict_proba(x_test)[:,1]\n",
    "fpr_xgb, tpr_xgb, _ = roc_curve(y_test, y_proba_xgb)\n",
    "roc_auc_xgb = auc(fpr_xgb, tpr_xgb)\n",
    "\n",
    "# Plot ROC Curves\n",
    "plt.figure(figsize=(8,6))\n",
    "plt.plot(fpr,tpr, label=f'Random Forest (AUC = {roc_auc:.3f})')\n",
    "plt.plot(fpr_xgb, tpr_xgb, label=f'XGBoost (AUC = {roc_auc_xgb:.3f})')\n",
    "\n",
    "# Plot settings\n",
    "plt.plot([0, 1], [0, 1], 'k--')  \n",
    "plt.xlim([0.0, 1.0])\n",
    "plt.ylim([0.0, 1.05])\n",
    "plt.xlabel('False Positive Rate')\n",
    "plt.ylabel('True Positive Rate')\n",
    "plt.title('ROC-AUC Curve Comparison')\n",
    "plt.legend(loc=\"lower right\")\n",
    "plt.grid()\n",
    "plt.show()\n"
   ]
  },
  {
   "cell_type": "markdown",
   "id": "679f36ee",
   "metadata": {},
   "source": [
    "* ROC-AUC measures how well the model can separate fraud cases from normal transactions.\n",
    "* A higher AUC (closer to 1) means the model is better at correctly ranking frauds higher than genuine transactions."
   ]
  },
  {
   "cell_type": "markdown",
   "id": "afc8aee4",
   "metadata": {},
   "source": [
    "## Preventions and Actions required\n",
    "\n",
    "* Real time fraud detection\n",
    "* Applying smart trancsactions limits\n",
    "* Encrypting sensitive data\n",
    "* Updating and checking the model\n",
    "* Conducting regular external security audits\n",
    "* Customer feedback collection\n"
   ]
  },
  {
   "cell_type": "code",
   "execution_count": null,
   "id": "82d8e9c8",
   "metadata": {},
   "outputs": [],
   "source": []
  }
 ],
 "metadata": {
  "kernelspec": {
   "display_name": "Python 3 (ipykernel)",
   "language": "python",
   "name": "python3"
  },
  "language_info": {
   "codemirror_mode": {
    "name": "ipython",
    "version": 3
   },
   "file_extension": ".py",
   "mimetype": "text/x-python",
   "name": "python",
   "nbconvert_exporter": "python",
   "pygments_lexer": "ipython3",
   "version": "3.10.9"
  }
 },
 "nbformat": 4,
 "nbformat_minor": 5
}
